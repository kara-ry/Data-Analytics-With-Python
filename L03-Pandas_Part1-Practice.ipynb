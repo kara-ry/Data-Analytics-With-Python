{
 "cells": [
  {
   "cell_type": "markdown",
   "metadata": {},
   "source": [
    "# Lesson 3 Practice: Pandas Part 1\n",
    "\n",
    "Use this notebook to follow along with the lesson in the corresponding lesson notebook: [L03-Pandas_Part1-Lesson.ipynb](./L03-Pandas_Part1-Lesson.ipynb).  "
   ]
  },
  {
   "cell_type": "markdown",
   "metadata": {},
   "source": [
    "## Instructions\n",
    "Follow along with the teaching material in the lesson. Throughout the tutorial sections labeled as \"Tasks\" are interspersed and indicated with the icon: ![Task](http://icons.iconarchive.com/icons/sbstnblnd/plateau/16/Apps-gnome-info-icon.png). You should follow the instructions provided in these sections by performing them in the practice notebook.  When the tutorial is completed you can turn in the final practice notebook. For each task, use the cell below it to write and test your code.  You may add additional cells for any task as needed or desired.  "
   ]
  },
  {
   "cell_type": "markdown",
   "metadata": {},
   "source": [
    "## Task 1a: Setup\n",
    "\n",
    "+ `numpy` as `np`\n",
    "+ `pandas` as `pd`\n"
   ]
  },
  {
   "cell_type": "code",
   "execution_count": 4,
   "metadata": {},
   "outputs": [],
   "source": [
    "import numpy as np\n",
    "import pandas as pd"
   ]
  },
  {
   "cell_type": "markdown",
   "metadata": {},
   "source": [
    "## Task 2a Create a `pd.Series` object\n",
    "\n",
    "+ Create a series of your own design."
   ]
  },
  {
   "cell_type": "code",
   "execution_count": 7,
   "metadata": {},
   "outputs": [
    {
     "data": {
      "text/plain": [
       "0     2\n",
       "1     4\n",
       "2     6\n",
       "3     8\n",
       "4    10\n",
       "5    12\n",
       "6    14\n",
       "7    16\n",
       "8    18\n",
       "9    20\n",
       "dtype: int64"
      ]
     },
     "execution_count": 7,
     "metadata": {},
     "output_type": "execute_result"
    }
   ],
   "source": [
    "a_series = pd.Series([2,4,6,8,10,12,14,16,18,20]) \n",
    "a_series"
   ]
  },
  {
   "cell_type": "markdown",
   "metadata": {},
   "source": [
    "## Task 2b: Creating a DataFrame\n",
    "\n",
    "+ Create a pd.DataFrame object from a Python dictionary. Design the data as you like."
   ]
  },
  {
   "cell_type": "code",
   "execution_count": 7,
   "metadata": {},
   "outputs": [
    {
     "data": {
      "text/html": [
       "<div>\n",
       "<style scoped>\n",
       "    .dataframe tbody tr th:only-of-type {\n",
       "        vertical-align: middle;\n",
       "    }\n",
       "\n",
       "    .dataframe tbody tr th {\n",
       "        vertical-align: top;\n",
       "    }\n",
       "\n",
       "    .dataframe thead th {\n",
       "        text-align: right;\n",
       "    }\n",
       "</style>\n",
       "<table border=\"1\" class=\"dataframe\">\n",
       "  <thead>\n",
       "    <tr style=\"text-align: right;\">\n",
       "      <th></th>\n",
       "      <th>0</th>\n",
       "      <th>1</th>\n",
       "      <th>2</th>\n",
       "      <th>3</th>\n",
       "      <th>4</th>\n",
       "      <th>5</th>\n",
       "      <th>6</th>\n",
       "      <th>7</th>\n",
       "    </tr>\n",
       "  </thead>\n",
       "  <tbody>\n",
       "    <tr>\n",
       "      <th>0</th>\n",
       "      <td>-1.310416</td>\n",
       "      <td>1.041099</td>\n",
       "      <td>-1.768732</td>\n",
       "      <td>0.930892</td>\n",
       "      <td>-0.447235</td>\n",
       "      <td>0.074113</td>\n",
       "      <td>0.823212</td>\n",
       "      <td>-1.177727</td>\n",
       "    </tr>\n",
       "    <tr>\n",
       "      <th>1</th>\n",
       "      <td>0.520003</td>\n",
       "      <td>0.738684</td>\n",
       "      <td>0.308078</td>\n",
       "      <td>-0.741985</td>\n",
       "      <td>0.881486</td>\n",
       "      <td>-0.970431</td>\n",
       "      <td>-0.178915</td>\n",
       "      <td>-1.243327</td>\n",
       "    </tr>\n",
       "    <tr>\n",
       "      <th>2</th>\n",
       "      <td>-0.125627</td>\n",
       "      <td>1.283634</td>\n",
       "      <td>-1.116196</td>\n",
       "      <td>0.858304</td>\n",
       "      <td>1.518236</td>\n",
       "      <td>0.397266</td>\n",
       "      <td>2.339230</td>\n",
       "      <td>-0.761292</td>\n",
       "    </tr>\n",
       "    <tr>\n",
       "      <th>3</th>\n",
       "      <td>-0.056128</td>\n",
       "      <td>-0.086886</td>\n",
       "      <td>-1.177766</td>\n",
       "      <td>-0.734060</td>\n",
       "      <td>-0.461576</td>\n",
       "      <td>1.748344</td>\n",
       "      <td>-1.237781</td>\n",
       "      <td>-1.226718</td>\n",
       "    </tr>\n",
       "    <tr>\n",
       "      <th>4</th>\n",
       "      <td>0.661492</td>\n",
       "      <td>-1.204097</td>\n",
       "      <td>-0.493138</td>\n",
       "      <td>-1.201270</td>\n",
       "      <td>-1.241088</td>\n",
       "      <td>0.526354</td>\n",
       "      <td>-0.858889</td>\n",
       "      <td>-1.098069</td>\n",
       "    </tr>\n",
       "    <tr>\n",
       "      <th>5</th>\n",
       "      <td>-2.639047</td>\n",
       "      <td>-1.121866</td>\n",
       "      <td>-1.210850</td>\n",
       "      <td>-0.441649</td>\n",
       "      <td>-2.235468</td>\n",
       "      <td>0.379209</td>\n",
       "      <td>0.971957</td>\n",
       "      <td>0.186910</td>\n",
       "    </tr>\n",
       "    <tr>\n",
       "      <th>6</th>\n",
       "      <td>-0.317457</td>\n",
       "      <td>-0.606797</td>\n",
       "      <td>1.410333</td>\n",
       "      <td>-0.229497</td>\n",
       "      <td>0.275587</td>\n",
       "      <td>1.304806</td>\n",
       "      <td>-0.518220</td>\n",
       "      <td>0.702170</td>\n",
       "    </tr>\n",
       "    <tr>\n",
       "      <th>7</th>\n",
       "      <td>1.033107</td>\n",
       "      <td>1.514050</td>\n",
       "      <td>-1.379411</td>\n",
       "      <td>0.613993</td>\n",
       "      <td>0.319513</td>\n",
       "      <td>-1.161681</td>\n",
       "      <td>2.457302</td>\n",
       "      <td>0.568225</td>\n",
       "    </tr>\n",
       "    <tr>\n",
       "      <th>8</th>\n",
       "      <td>-1.367345</td>\n",
       "      <td>0.698945</td>\n",
       "      <td>0.943821</td>\n",
       "      <td>-0.426567</td>\n",
       "      <td>0.837042</td>\n",
       "      <td>0.585372</td>\n",
       "      <td>0.300536</td>\n",
       "      <td>1.599692</td>\n",
       "    </tr>\n",
       "    <tr>\n",
       "      <th>9</th>\n",
       "      <td>-0.051289</td>\n",
       "      <td>1.027050</td>\n",
       "      <td>-0.206579</td>\n",
       "      <td>-0.565619</td>\n",
       "      <td>-0.520365</td>\n",
       "      <td>-0.847037</td>\n",
       "      <td>0.137526</td>\n",
       "      <td>1.444437</td>\n",
       "    </tr>\n",
       "    <tr>\n",
       "      <th>10</th>\n",
       "      <td>0.543054</td>\n",
       "      <td>-0.783027</td>\n",
       "      <td>-0.734640</td>\n",
       "      <td>-0.718597</td>\n",
       "      <td>-0.257601</td>\n",
       "      <td>1.300555</td>\n",
       "      <td>1.045594</td>\n",
       "      <td>1.575462</td>\n",
       "    </tr>\n",
       "    <tr>\n",
       "      <th>11</th>\n",
       "      <td>-0.131919</td>\n",
       "      <td>-0.039863</td>\n",
       "      <td>-2.669223</td>\n",
       "      <td>1.170282</td>\n",
       "      <td>1.084697</td>\n",
       "      <td>0.765431</td>\n",
       "      <td>1.311488</td>\n",
       "      <td>0.503845</td>\n",
       "    </tr>\n",
       "  </tbody>\n",
       "</table>\n",
       "</div>"
      ],
      "text/plain": [
       "           0         1         2         3         4         5         6  \\\n",
       "0  -1.310416  1.041099 -1.768732  0.930892 -0.447235  0.074113  0.823212   \n",
       "1   0.520003  0.738684  0.308078 -0.741985  0.881486 -0.970431 -0.178915   \n",
       "2  -0.125627  1.283634 -1.116196  0.858304  1.518236  0.397266  2.339230   \n",
       "3  -0.056128 -0.086886 -1.177766 -0.734060 -0.461576  1.748344 -1.237781   \n",
       "4   0.661492 -1.204097 -0.493138 -1.201270 -1.241088  0.526354 -0.858889   \n",
       "5  -2.639047 -1.121866 -1.210850 -0.441649 -2.235468  0.379209  0.971957   \n",
       "6  -0.317457 -0.606797  1.410333 -0.229497  0.275587  1.304806 -0.518220   \n",
       "7   1.033107  1.514050 -1.379411  0.613993  0.319513 -1.161681  2.457302   \n",
       "8  -1.367345  0.698945  0.943821 -0.426567  0.837042  0.585372  0.300536   \n",
       "9  -0.051289  1.027050 -0.206579 -0.565619 -0.520365 -0.847037  0.137526   \n",
       "10  0.543054 -0.783027 -0.734640 -0.718597 -0.257601  1.300555  1.045594   \n",
       "11 -0.131919 -0.039863 -2.669223  1.170282  1.084697  0.765431  1.311488   \n",
       "\n",
       "           7  \n",
       "0  -1.177727  \n",
       "1  -1.243327  \n",
       "2  -0.761292  \n",
       "3  -1.226718  \n",
       "4  -1.098069  \n",
       "5   0.186910  \n",
       "6   0.702170  \n",
       "7   0.568225  \n",
       "8   1.599692  \n",
       "9   1.444437  \n",
       "10  1.575462  \n",
       "11  0.503845  "
      ]
     },
     "execution_count": 7,
     "metadata": {},
     "output_type": "execute_result"
    }
   ],
   "source": [
    "dataframe = pd.DataFrame(np.random.randn(12,8))\n",
    "dataframe"
   ]
  },
  {
   "cell_type": "markdown",
   "metadata": {},
   "source": [
    "## Task 2c: Create DataFrame with labels\n",
    "\n",
    "+ Create a 10x5 dataframe of random numeric integers that follow a [Guassian (normal) Distribution](https://docs.scipy.org/doc/numpy-1.15.0/reference/generated/numpy.random.normal.html). \n",
    "  + Center the distrubtion at 0.85.\n",
    "  + We will use these values as assumed grades for a class of students\n",
    "+ Adjust the row indexes to be the names of hypothetical students.\n",
    "+ Adjust the columsn to be the names of hypothetical projects, homework, exam names, etc."
   ]
  },
  {
   "cell_type": "code",
   "execution_count": 60,
   "metadata": {},
   "outputs": [
    {
     "data": {
      "text/html": [
       "<div>\n",
       "<style scoped>\n",
       "    .dataframe tbody tr th:only-of-type {\n",
       "        vertical-align: middle;\n",
       "    }\n",
       "\n",
       "    .dataframe tbody tr th {\n",
       "        vertical-align: top;\n",
       "    }\n",
       "\n",
       "    .dataframe thead th {\n",
       "        text-align: right;\n",
       "    }\n",
       "</style>\n",
       "<table border=\"1\" class=\"dataframe\">\n",
       "  <thead>\n",
       "    <tr style=\"text-align: right;\">\n",
       "      <th></th>\n",
       "      <th>HW1</th>\n",
       "      <th>HW2</th>\n",
       "      <th>HW3</th>\n",
       "      <th>Exam1</th>\n",
       "      <th>Project</th>\n",
       "    </tr>\n",
       "  </thead>\n",
       "  <tbody>\n",
       "    <tr>\n",
       "      <th>Jessica</th>\n",
       "      <td>-0.503682</td>\n",
       "      <td>0.783307</td>\n",
       "      <td>2.122952</td>\n",
       "      <td>0.644248</td>\n",
       "      <td>0.651050</td>\n",
       "    </tr>\n",
       "    <tr>\n",
       "      <th>Kara</th>\n",
       "      <td>1.223816</td>\n",
       "      <td>0.907034</td>\n",
       "      <td>0.824994</td>\n",
       "      <td>0.760594</td>\n",
       "      <td>1.343502</td>\n",
       "    </tr>\n",
       "    <tr>\n",
       "      <th>Heather</th>\n",
       "      <td>-0.263213</td>\n",
       "      <td>0.387284</td>\n",
       "      <td>0.718599</td>\n",
       "      <td>0.218576</td>\n",
       "      <td>1.734829</td>\n",
       "    </tr>\n",
       "    <tr>\n",
       "      <th>Erin</th>\n",
       "      <td>0.782883</td>\n",
       "      <td>1.005533</td>\n",
       "      <td>0.932899</td>\n",
       "      <td>1.627714</td>\n",
       "      <td>-1.202012</td>\n",
       "    </tr>\n",
       "    <tr>\n",
       "      <th>Marc</th>\n",
       "      <td>2.005364</td>\n",
       "      <td>2.205994</td>\n",
       "      <td>1.092633</td>\n",
       "      <td>0.280291</td>\n",
       "      <td>1.992884</td>\n",
       "    </tr>\n",
       "    <tr>\n",
       "      <th>Adam</th>\n",
       "      <td>-1.526291</td>\n",
       "      <td>1.906145</td>\n",
       "      <td>1.807693</td>\n",
       "      <td>0.983800</td>\n",
       "      <td>0.556810</td>\n",
       "    </tr>\n",
       "    <tr>\n",
       "      <th>Rachael</th>\n",
       "      <td>1.387724</td>\n",
       "      <td>2.726636</td>\n",
       "      <td>1.132158</td>\n",
       "      <td>1.188526</td>\n",
       "      <td>1.921552</td>\n",
       "    </tr>\n",
       "    <tr>\n",
       "      <th>Kerry</th>\n",
       "      <td>-0.910957</td>\n",
       "      <td>1.362438</td>\n",
       "      <td>1.909315</td>\n",
       "      <td>2.365718</td>\n",
       "      <td>1.914789</td>\n",
       "    </tr>\n",
       "    <tr>\n",
       "      <th>Alex</th>\n",
       "      <td>0.871862</td>\n",
       "      <td>1.239161</td>\n",
       "      <td>1.092614</td>\n",
       "      <td>-0.034742</td>\n",
       "      <td>1.260055</td>\n",
       "    </tr>\n",
       "    <tr>\n",
       "      <th>Megan</th>\n",
       "      <td>-0.134836</td>\n",
       "      <td>0.869452</td>\n",
       "      <td>1.456206</td>\n",
       "      <td>0.394152</td>\n",
       "      <td>0.820224</td>\n",
       "    </tr>\n",
       "  </tbody>\n",
       "</table>\n",
       "</div>"
      ],
      "text/plain": [
       "              HW1       HW2       HW3     Exam1   Project\n",
       "Jessica -0.503682  0.783307  2.122952  0.644248  0.651050\n",
       "Kara     1.223816  0.907034  0.824994  0.760594  1.343502\n",
       "Heather -0.263213  0.387284  0.718599  0.218576  1.734829\n",
       "Erin     0.782883  1.005533  0.932899  1.627714 -1.202012\n",
       "Marc     2.005364  2.205994  1.092633  0.280291  1.992884\n",
       "Adam    -1.526291  1.906145  1.807693  0.983800  0.556810\n",
       "Rachael  1.387724  2.726636  1.132158  1.188526  1.921552\n",
       "Kerry   -0.910957  1.362438  1.909315  2.365718  1.914789\n",
       "Alex     0.871862  1.239161  1.092614 -0.034742  1.260055\n",
       "Megan   -0.134836  0.869452  1.456206  0.394152  0.820224"
      ]
     },
     "execution_count": 60,
     "metadata": {},
     "output_type": "execute_result"
    }
   ],
   "source": [
    "newdataframe = pd.DataFrame(np.random.normal(loc = 0.85, size = (10,5)), \n",
    "                            index=('Jessica', 'Kara', 'Heather', 'Erin', 'Marc', 'Adam', 'Rachael', 'Kerry', 'Alex', 'Megan'), \n",
    "                            columns=('HW1','HW2', 'HW3', 'Exam1', 'Project'))\n",
    "newdataframe"
   ]
  },
  {
   "cell_type": "markdown",
   "metadata": {},
   "source": [
    "## Task 3a: Import the iris.csv file\n",
    "\n",
    "+ Import the iris dataset.\n",
    "+ Take a look at the `pd.read_csv` online documentation. Write example code in a Markup cell for how you would import this file if it were tab-delimited."
   ]
  },
  {
   "cell_type": "code",
   "execution_count": 37,
   "metadata": {},
   "outputs": [
    {
     "data": {
      "text/plain": [
       "(150, 5)"
      ]
     },
     "execution_count": 37,
     "metadata": {},
     "output_type": "execute_result"
    }
   ],
   "source": [
    "irisdata = pd.read_csv('iris.csv')"
   ]
  },
  {
   "cell_type": "code",
   "execution_count": 16,
   "metadata": {},
   "outputs": [
    {
     "name": "stderr",
     "output_type": "stream",
     "text": [
      "/Users/kararyan/miniconda3/lib/python3.7/site-packages/ipykernel_launcher.py:1: ParserWarning: Falling back to the 'python' engine because the 'c' engine does not support regex separators (separators > 1 char and different from '\\s+' are interpreted as regex); you can avoid this warning by specifying engine='python'.\n",
      "  \"\"\"Entry point for launching an IPython kernel.\n"
     ]
    }
   ],
   "source": [
    "# fakeimport = pd.read_csv('iris.csv', sep='\\t' )"
   ]
  },
  {
   "cell_type": "markdown",
   "metadata": {},
   "source": [
    "## Task 4a: Explore Data\n",
    "\n",
    " + Use `head`, `tail` and `sample` with the iris dataset.\n",
    " + Do the same with the dataset you created in task 2c."
   ]
  },
  {
   "cell_type": "code",
   "execution_count": 22,
   "metadata": {},
   "outputs": [
    {
     "data": {
      "text/html": [
       "<div>\n",
       "<style scoped>\n",
       "    .dataframe tbody tr th:only-of-type {\n",
       "        vertical-align: middle;\n",
       "    }\n",
       "\n",
       "    .dataframe tbody tr th {\n",
       "        vertical-align: top;\n",
       "    }\n",
       "\n",
       "    .dataframe thead th {\n",
       "        text-align: right;\n",
       "    }\n",
       "</style>\n",
       "<table border=\"1\" class=\"dataframe\">\n",
       "  <thead>\n",
       "    <tr style=\"text-align: right;\">\n",
       "      <th></th>\n",
       "      <th>sepal_length</th>\n",
       "      <th>sepal_width</th>\n",
       "      <th>petal_length</th>\n",
       "      <th>petal_width</th>\n",
       "      <th>species</th>\n",
       "    </tr>\n",
       "  </thead>\n",
       "  <tbody>\n",
       "    <tr>\n",
       "      <th>0</th>\n",
       "      <td>5.1</td>\n",
       "      <td>3.5</td>\n",
       "      <td>1.4</td>\n",
       "      <td>0.2</td>\n",
       "      <td>setosa</td>\n",
       "    </tr>\n",
       "    <tr>\n",
       "      <th>1</th>\n",
       "      <td>4.9</td>\n",
       "      <td>3.0</td>\n",
       "      <td>1.4</td>\n",
       "      <td>0.2</td>\n",
       "      <td>setosa</td>\n",
       "    </tr>\n",
       "    <tr>\n",
       "      <th>2</th>\n",
       "      <td>4.7</td>\n",
       "      <td>3.2</td>\n",
       "      <td>1.3</td>\n",
       "      <td>0.2</td>\n",
       "      <td>setosa</td>\n",
       "    </tr>\n",
       "    <tr>\n",
       "      <th>3</th>\n",
       "      <td>4.6</td>\n",
       "      <td>3.1</td>\n",
       "      <td>1.5</td>\n",
       "      <td>0.2</td>\n",
       "      <td>setosa</td>\n",
       "    </tr>\n",
       "    <tr>\n",
       "      <th>4</th>\n",
       "      <td>5.0</td>\n",
       "      <td>3.6</td>\n",
       "      <td>1.4</td>\n",
       "      <td>0.2</td>\n",
       "      <td>setosa</td>\n",
       "    </tr>\n",
       "  </tbody>\n",
       "</table>\n",
       "</div>"
      ],
      "text/plain": [
       "   sepal_length  sepal_width  petal_length  petal_width species\n",
       "0           5.1          3.5           1.4          0.2  setosa\n",
       "1           4.9          3.0           1.4          0.2  setosa\n",
       "2           4.7          3.2           1.3          0.2  setosa\n",
       "3           4.6          3.1           1.5          0.2  setosa\n",
       "4           5.0          3.6           1.4          0.2  setosa"
      ]
     },
     "execution_count": 22,
     "metadata": {},
     "output_type": "execute_result"
    }
   ],
   "source": [
    "irisdata.head()"
   ]
  },
  {
   "cell_type": "code",
   "execution_count": 23,
   "metadata": {},
   "outputs": [
    {
     "data": {
      "text/html": [
       "<div>\n",
       "<style scoped>\n",
       "    .dataframe tbody tr th:only-of-type {\n",
       "        vertical-align: middle;\n",
       "    }\n",
       "\n",
       "    .dataframe tbody tr th {\n",
       "        vertical-align: top;\n",
       "    }\n",
       "\n",
       "    .dataframe thead th {\n",
       "        text-align: right;\n",
       "    }\n",
       "</style>\n",
       "<table border=\"1\" class=\"dataframe\">\n",
       "  <thead>\n",
       "    <tr style=\"text-align: right;\">\n",
       "      <th></th>\n",
       "      <th>sepal_length</th>\n",
       "      <th>sepal_width</th>\n",
       "      <th>petal_length</th>\n",
       "      <th>petal_width</th>\n",
       "      <th>species</th>\n",
       "    </tr>\n",
       "  </thead>\n",
       "  <tbody>\n",
       "    <tr>\n",
       "      <th>145</th>\n",
       "      <td>6.7</td>\n",
       "      <td>3.0</td>\n",
       "      <td>5.2</td>\n",
       "      <td>2.3</td>\n",
       "      <td>virginica</td>\n",
       "    </tr>\n",
       "    <tr>\n",
       "      <th>146</th>\n",
       "      <td>6.3</td>\n",
       "      <td>2.5</td>\n",
       "      <td>5.0</td>\n",
       "      <td>1.9</td>\n",
       "      <td>virginica</td>\n",
       "    </tr>\n",
       "    <tr>\n",
       "      <th>147</th>\n",
       "      <td>6.5</td>\n",
       "      <td>3.0</td>\n",
       "      <td>5.2</td>\n",
       "      <td>2.0</td>\n",
       "      <td>virginica</td>\n",
       "    </tr>\n",
       "    <tr>\n",
       "      <th>148</th>\n",
       "      <td>6.2</td>\n",
       "      <td>3.4</td>\n",
       "      <td>5.4</td>\n",
       "      <td>2.3</td>\n",
       "      <td>virginica</td>\n",
       "    </tr>\n",
       "    <tr>\n",
       "      <th>149</th>\n",
       "      <td>5.9</td>\n",
       "      <td>3.0</td>\n",
       "      <td>5.1</td>\n",
       "      <td>1.8</td>\n",
       "      <td>virginica</td>\n",
       "    </tr>\n",
       "  </tbody>\n",
       "</table>\n",
       "</div>"
      ],
      "text/plain": [
       "     sepal_length  sepal_width  petal_length  petal_width    species\n",
       "145           6.7          3.0           5.2          2.3  virginica\n",
       "146           6.3          2.5           5.0          1.9  virginica\n",
       "147           6.5          3.0           5.2          2.0  virginica\n",
       "148           6.2          3.4           5.4          2.3  virginica\n",
       "149           5.9          3.0           5.1          1.8  virginica"
      ]
     },
     "execution_count": 23,
     "metadata": {},
     "output_type": "execute_result"
    }
   ],
   "source": [
    "irisdata.tail()"
   ]
  },
  {
   "cell_type": "code",
   "execution_count": 26,
   "metadata": {},
   "outputs": [
    {
     "data": {
      "text/html": [
       "<div>\n",
       "<style scoped>\n",
       "    .dataframe tbody tr th:only-of-type {\n",
       "        vertical-align: middle;\n",
       "    }\n",
       "\n",
       "    .dataframe tbody tr th {\n",
       "        vertical-align: top;\n",
       "    }\n",
       "\n",
       "    .dataframe thead th {\n",
       "        text-align: right;\n",
       "    }\n",
       "</style>\n",
       "<table border=\"1\" class=\"dataframe\">\n",
       "  <thead>\n",
       "    <tr style=\"text-align: right;\">\n",
       "      <th></th>\n",
       "      <th>sepal_length</th>\n",
       "      <th>sepal_width</th>\n",
       "      <th>petal_length</th>\n",
       "      <th>petal_width</th>\n",
       "      <th>species</th>\n",
       "    </tr>\n",
       "  </thead>\n",
       "  <tbody>\n",
       "    <tr>\n",
       "      <th>65</th>\n",
       "      <td>6.7</td>\n",
       "      <td>3.1</td>\n",
       "      <td>4.4</td>\n",
       "      <td>1.4</td>\n",
       "      <td>versicolor</td>\n",
       "    </tr>\n",
       "    <tr>\n",
       "      <th>29</th>\n",
       "      <td>4.7</td>\n",
       "      <td>3.2</td>\n",
       "      <td>1.6</td>\n",
       "      <td>0.2</td>\n",
       "      <td>setosa</td>\n",
       "    </tr>\n",
       "  </tbody>\n",
       "</table>\n",
       "</div>"
      ],
      "text/plain": [
       "    sepal_length  sepal_width  petal_length  petal_width     species\n",
       "65           6.7          3.1           4.4          1.4  versicolor\n",
       "29           4.7          3.2           1.6          0.2      setosa"
      ]
     },
     "execution_count": 26,
     "metadata": {},
     "output_type": "execute_result"
    }
   ],
   "source": [
    "irisdata.sample(2)"
   ]
  },
  {
   "cell_type": "code",
   "execution_count": 52,
   "metadata": {},
   "outputs": [
    {
     "data": {
      "text/html": [
       "<div>\n",
       "<style scoped>\n",
       "    .dataframe tbody tr th:only-of-type {\n",
       "        vertical-align: middle;\n",
       "    }\n",
       "\n",
       "    .dataframe tbody tr th {\n",
       "        vertical-align: top;\n",
       "    }\n",
       "\n",
       "    .dataframe thead th {\n",
       "        text-align: right;\n",
       "    }\n",
       "</style>\n",
       "<table border=\"1\" class=\"dataframe\">\n",
       "  <thead>\n",
       "    <tr style=\"text-align: right;\">\n",
       "      <th></th>\n",
       "      <th>HW1</th>\n",
       "      <th>HW2</th>\n",
       "      <th>HW3</th>\n",
       "      <th>Exam1</th>\n",
       "      <th>Project</th>\n",
       "    </tr>\n",
       "  </thead>\n",
       "  <tbody>\n",
       "    <tr>\n",
       "      <th>Heather</th>\n",
       "      <td>1.947439</td>\n",
       "      <td>0.909360</td>\n",
       "      <td>1.315339</td>\n",
       "      <td>-0.555303</td>\n",
       "      <td>1.036084</td>\n",
       "    </tr>\n",
       "    <tr>\n",
       "      <th>Erin</th>\n",
       "      <td>1.418188</td>\n",
       "      <td>0.381492</td>\n",
       "      <td>0.781147</td>\n",
       "      <td>2.820689</td>\n",
       "      <td>0.221557</td>\n",
       "    </tr>\n",
       "    <tr>\n",
       "      <th>Marc</th>\n",
       "      <td>2.877663</td>\n",
       "      <td>1.952103</td>\n",
       "      <td>1.660682</td>\n",
       "      <td>0.706748</td>\n",
       "      <td>1.281511</td>\n",
       "    </tr>\n",
       "    <tr>\n",
       "      <th>Jessica</th>\n",
       "      <td>1.315163</td>\n",
       "      <td>0.523485</td>\n",
       "      <td>-0.405860</td>\n",
       "      <td>1.824437</td>\n",
       "      <td>0.293915</td>\n",
       "    </tr>\n",
       "  </tbody>\n",
       "</table>\n",
       "</div>"
      ],
      "text/plain": [
       "              HW1       HW2       HW3     Exam1   Project\n",
       "Heather  1.947439  0.909360  1.315339 -0.555303  1.036084\n",
       "Erin     1.418188  0.381492  0.781147  2.820689  0.221557\n",
       "Marc     2.877663  1.952103  1.660682  0.706748  1.281511\n",
       "Jessica  1.315163  0.523485 -0.405860  1.824437  0.293915"
      ]
     },
     "execution_count": 52,
     "metadata": {},
     "output_type": "execute_result"
    }
   ],
   "source": [
    "newdataframe.head()\n",
    "newdataframe.tail()\n",
    "newdataframe.sample(4)"
   ]
  },
  {
   "cell_type": "markdown",
   "metadata": {},
   "source": [
    "## Task 5a: Viewing columns and rows\n",
    "\n",
    "+ Display the columns and indexes of the iris dataset.\n",
    "+ Do the same with the dataset you created in Task 2c."
   ]
  },
  {
   "cell_type": "code",
   "execution_count": 42,
   "metadata": {},
   "outputs": [],
   "source": [
    "irisdata.columns\n",
    "irisdata.index"
   ]
  },
  {
   "cell_type": "code",
   "execution_count": 42,
   "metadata": {},
   "outputs": [
    {
     "data": {
      "text/plain": [
       "RangeIndex(start=0, stop=150, step=1)"
      ]
     },
     "execution_count": 42,
     "metadata": {},
     "output_type": "execute_result"
    }
   ],
   "source": [
    "newdataframe.columns\n",
    "newdataframe.index"
   ]
  },
  {
   "cell_type": "markdown",
   "metadata": {},
   "source": [
    "## Task 5b: Get Values\n",
    "\n",
    "+ Check the version of `pandas` you have \n",
    "+ Use the appropriate method to convert the iris data to a dictionary.\n",
    "+ Do the same with the dataset you created in Task 2c.\n"
   ]
  },
  {
   "cell_type": "code",
   "execution_count": 53,
   "metadata": {},
   "outputs": [],
   "source": [
    "pd.__version__\n",
    "\n",
    "array = irisdata.to_dict()\n",
    "\n",
    "grades = newdataframe.to_dict()"
   ]
  },
  {
   "cell_type": "markdown",
   "metadata": {},
   "source": [
    "## Task 5c: Using `loc`\n",
    "\n",
    "+ Use any iris dataframe to:\n",
    "  + Select a row slice with `loc`.\n",
    "  + Select a row and column slice with `loc`.\n",
    "  + Take a look at the [Pandas documentation for the `at` selector](https://pandas.pydata.org/pandas-docs/stable/reference/api/pandas.DataFrame.at.html). Use what you learn there to select a single item with Pandas `at` accessor."
   ]
  },
  {
   "cell_type": "code",
   "execution_count": 59,
   "metadata": {},
   "outputs": [
    {
     "data": {
      "text/plain": [
       "4.9"
      ]
     },
     "execution_count": 59,
     "metadata": {},
     "output_type": "execute_result"
    }
   ],
   "source": [
    "irisdata.loc[2:]\n",
    "\n",
    "\n",
    "irisdata.loc[1, 'sepal_length' ]"
   ]
  },
  {
   "cell_type": "markdown",
   "metadata": {},
   "source": [
    "## Task 5d: Using `iloc`\n",
    "\n",
    "+ Use any iris dataframe to:    \n",
    "    + Select a row slice with `iloc`.\n",
    "    + Select a row and column slice with `iloc`.\n",
    "    + Take a look at the [Pandas documentation for the `iat` selector](https://pandas.pydata.org/pandas-docs/stable/reference/api/pandas.DataFrame.iat.html). Use what you learn there to select a single item with Pandas `iat` accessor.\n",
    "\n"
   ]
  },
  {
   "cell_type": "code",
   "execution_count": null,
   "metadata": {},
   "outputs": [],
   "source": []
  },
  {
   "cell_type": "markdown",
   "metadata": {},
   "source": [
    "## Task 5e: Boolean Indexing\n",
    "\n",
    "+ Create subsets of the iris dataset using boolean indexes that:\n",
    "    + Use one boolean operator.\n",
    "    + Use two boolean operators.\n",
    "\n"
   ]
  },
  {
   "cell_type": "code",
   "execution_count": null,
   "metadata": {},
   "outputs": [],
   "source": []
  }
 ],
 "metadata": {
  "kernelspec": {
   "display_name": "Python 3",
   "language": "python",
   "name": "python3"
  },
  "language_info": {
   "codemirror_mode": {
    "name": "ipython",
    "version": 3
   },
   "file_extension": ".py",
   "mimetype": "text/x-python",
   "name": "python",
   "nbconvert_exporter": "python",
   "pygments_lexer": "ipython3",
   "version": "3.7.7"
  }
 },
 "nbformat": 4,
 "nbformat_minor": 4
}
