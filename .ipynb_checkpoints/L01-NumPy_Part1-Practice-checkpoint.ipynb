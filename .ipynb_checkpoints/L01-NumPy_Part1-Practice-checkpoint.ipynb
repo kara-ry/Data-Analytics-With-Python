{
 "cells": [
  {
   "cell_type": "markdown",
   "metadata": {},
   "source": [
    "# Lesson 1 Practice: NumPy Part 1\n",
    "Use this notebook to follow along with the lesson in the corresponding lesson notebook: [L01-Numpy_Part1-Lesson.ipynb](./L01-Numpy_Part1-Lesson.ipynb).  \n",
    "\n"
   ]
  },
  {
   "cell_type": "markdown",
   "metadata": {},
   "source": [
    "## Instructions\n",
    "Follow along with the teaching material in the lesson. Throughout the tutorial sections labeled as \"Tasks\" are interspersed and indicated with the icon: ![Task](http://icons.iconarchive.com/icons/sbstnblnd/plateau/16/Apps-gnome-info-icon.png). You should follow the instructions provided in these sections by performing them in the practice notebook.  When the tutorial is completed you can turn in the final practice notebook. For each task, use the cell below it to write and test your code.  You may add additional cells for any task as needed or desired.  "
   ]
  },
  {
   "cell_type": "markdown",
   "metadata": {},
   "source": [
    "## Task 1a: Setup\n",
    "\n",
    "In the practice notebook, import the following packages:\n",
    "+ `numpy` as `np`"
   ]
  },
  {
   "cell_type": "code",
   "execution_count": 4,
   "metadata": {},
   "outputs": [],
   "source": [
    "import numpy as np"
   ]
  },
  {
   "cell_type": "markdown",
   "metadata": {},
   "source": [
    "## Task 2a: Creating Arrays\n",
    "\n",
    "In the practice notebook, perform the following.  \n",
    "- Create a 1-dimensional numpy array and print it.\n",
    "- Create a 2-dimensional numpy array and print it.\n",
    "- Create a 3-dimensional numpy array and print it."
   ]
  },
  {
   "cell_type": "code",
   "execution_count": 13,
   "metadata": {},
   "outputs": [
    {
     "name": "stdout",
     "output_type": "stream",
     "text": [
      "[2 4 6]\n",
      "[[2 4 6]\n",
      " [1 3 5]]\n",
      "[[[ 2  4  6]\n",
      "  [ 1  3  5]]\n",
      "\n",
      " [[ 8 10 12]\n",
      "  [ 7  9 11]]]\n"
     ]
    }
   ],
   "source": [
    "oned_array = np.array([2,4,6])\n",
    "twod_array = np.array([[2,4,6], [1,3,5]])\n",
    "threed_array = np.array([[[2,4,6], [1,3,5]],[[8,10,12], [7,9,11]]])\n",
    "\n",
    "print(oned_array)\n",
    "\n",
    "print(twod_array)\n",
    "\n",
    "print(threed_array)"
   ]
  },
  {
   "cell_type": "markdown",
   "metadata": {
    "tags": []
   },
   "source": [
    "## Task 3a: Accessing Array Attributes\n",
    "\n",
    "In the practice notebook, perform the following.\n",
    "\n",
    "- Create a NumPy array.\n",
    "- Write code that prints these attributes (one per line): `ndim`, `shape`, `size`, `dtype`, `itemsize`, `data`, `nbytes`.\n",
    "- Add a comment line, before each line describing what value the attribute returns. \n"
   ]
  },
  {
   "cell_type": "code",
   "execution_count": 19,
   "metadata": {},
   "outputs": [
    {
     "name": "stdout",
     "output_type": "stream",
     "text": [
      "2\n",
      "(2, 5)\n",
      "10\n",
      "int64\n",
      "8\n",
      "<memory at 0x7fa2e72f0bb0>\n",
      "80\n"
     ]
    }
   ],
   "source": [
    "new_array_3a = np.array([[1,2,3,4,5], [12,24,36,48,60]])\n",
    "# ndim returns the number of dimensions \n",
    "print(new_array_3a.ndim)\n",
    "\n",
    "# shape returns the shape of array as lengths of each dimension\n",
    "print(new_array_3a.shape)\n",
    "\n",
    "# size returns the number of elements in the array\n",
    "print(new_array_3a.size)\n",
    "\n",
    "# dtype returns the datatype of the elements of the array\n",
    "print(new_array_3a.dtype)\n",
    "\n",
    "# itemsize returns the length in bytes of 1 element of the array\n",
    "print(new_array_3a.itemsize)\n",
    "\n",
    "# data is a python buffer object that points to the start of the data \n",
    "print(new_array_3a.data)\n",
    "\n",
    "# nbytes returns the energy consumed from the elements of the array\n",
    "print(new_array_3a.nbytes)"
   ]
  },
  {
   "cell_type": "markdown",
   "metadata": {},
   "source": [
    "## Task 4a: Initializing Arrays\n",
    "\n",
    "In the practice notebook, perform the following.\n",
    "\n",
    "+ Create an initialized array by using these functions:  `ones`, `zeros`, `empty`, `full`, `arange`, `linspace` and `random.random`. Be sure to follow each array creation with a call to `print()` to display your newly created arrays. \n",
    "+ Add a comment above each function call describing what is being done.  "
   ]
  },
  {
   "cell_type": "code",
   "execution_count": 34,
   "metadata": {},
   "outputs": [
    {
     "name": "stdout",
     "output_type": "stream",
     "text": [
      "[[1. 1. 1. 1.]\n",
      " [1. 1. 1. 1.]\n",
      " [1. 1. 1. 1.]]\n",
      "[[0. 0. 0. 0.]\n",
      " [0. 0. 0. 0.]\n",
      " [0. 0. 0. 0.]]\n",
      "[[0. 0. 0. 0.]\n",
      " [0. 0. 0. 0.]\n",
      " [0. 0. 0. 0.]]\n",
      "[[2 2 2 2]\n",
      " [2 2 2 2]]\n",
      "[ 2  4  6  8 10]\n",
      "[  1.           5.06122449   9.12244898  13.18367347  17.24489796\n",
      "  21.30612245  25.36734694  29.42857143  33.48979592  37.55102041\n",
      "  41.6122449   45.67346939  49.73469388  53.79591837  57.85714286\n",
      "  61.91836735  65.97959184  70.04081633  74.10204082  78.16326531\n",
      "  82.2244898   86.28571429  90.34693878  94.40816327  98.46938776\n",
      " 102.53061224 106.59183673 110.65306122 114.71428571 118.7755102\n",
      " 122.83673469 126.89795918 130.95918367 135.02040816 139.08163265\n",
      " 143.14285714 147.20408163 151.26530612 155.32653061 159.3877551\n",
      " 163.44897959 167.51020408 171.57142857 175.63265306 179.69387755\n",
      " 183.75510204 187.81632653 191.87755102 195.93877551 200.        ]\n",
      "[[0.45191256 0.97278247 0.90722319 0.51412722 0.84349919]\n",
      " [0.63293157 0.56175435 0.70043199 0.55739959 0.44196465]]\n"
     ]
    }
   ],
   "source": [
    "# ones initializes an array of 1's of x,y,z length \n",
    "onesarray = np.ones((3,4))\n",
    "print(onesarray)\n",
    "\n",
    "# zeros initializes an array of 0's of x, y, z length\n",
    "zeroarray = np.zeros((3,4))\n",
    "print(zeroarray)\n",
    "\n",
    "# empty initializes array of 0s of x,y,z length \n",
    "emptyarray = np.empty((3,4))\n",
    "print(emptyarray)\n",
    "\n",
    "# full initializes an array of (x,y,z) length and type with a specifies fill value \n",
    "fullarray = np.full((2,4),2)\n",
    "print(fullarray)\n",
    "\n",
    "# arange creates an array of evenly spaced out numbers in a specified interval \n",
    "arrangearray = np.arange(2,12,2)\n",
    "print(arrangearray)\n",
    "\n",
    "# linspace initializes an arrray of evenly spaced numbers over a specified interval\n",
    "linspacearray = np.linspace(1, 200)\n",
    "print(linspacearray)\n",
    "\n",
    "# random.random samples randomly to fill the array \n",
    "array = np.random.random((2,5))\n",
    "print(array)\n"
   ]
  },
  {
   "cell_type": "markdown",
   "metadata": {},
   "source": [
    "## Task 5a:  Broadcasting Arrays\n",
    "\n",
    "In the practice notebook, perform the following.\n",
    "\n",
    "+ Create two arrays of differing sizes but compatible with broadcasting.\n",
    "+ Perform addition, multiplication and subtraction.\n",
    "+ Create two additional arrays of differing size that do not meet the rules for broadcasting and try a mathematical operation.  "
   ]
  },
  {
   "cell_type": "code",
   "execution_count": 59,
   "metadata": {},
   "outputs": [
    {
     "name": "stdout",
     "output_type": "stream",
     "text": [
      "[[1. 1. 1. 1.]\n",
      " [1. 1. 1. 1.]\n",
      " [1. 1. 1. 1.]]\n",
      "[[[0.98610439 0.71914039 0.24400253 0.16300192]]\n",
      "\n",
      " [[0.74400836 0.40841798 0.30342698 0.04902234]]\n",
      "\n",
      " [[0.12878304 0.14903926 0.14580598 0.08353578]]\n",
      "\n",
      " [[0.29643337 0.67395739 0.26155048 0.02727791]]\n",
      "\n",
      " [[0.51325194 0.63638549 0.27587176 0.50027964]]]\n",
      "[[[1.98610439 1.71914039 1.24400253 1.16300192]\n",
      "  [1.98610439 1.71914039 1.24400253 1.16300192]\n",
      "  [1.98610439 1.71914039 1.24400253 1.16300192]]\n",
      "\n",
      " [[1.74400836 1.40841798 1.30342698 1.04902234]\n",
      "  [1.74400836 1.40841798 1.30342698 1.04902234]\n",
      "  [1.74400836 1.40841798 1.30342698 1.04902234]]\n",
      "\n",
      " [[1.12878304 1.14903926 1.14580598 1.08353578]\n",
      "  [1.12878304 1.14903926 1.14580598 1.08353578]\n",
      "  [1.12878304 1.14903926 1.14580598 1.08353578]]\n",
      "\n",
      " [[1.29643337 1.67395739 1.26155048 1.02727791]\n",
      "  [1.29643337 1.67395739 1.26155048 1.02727791]\n",
      "  [1.29643337 1.67395739 1.26155048 1.02727791]]\n",
      "\n",
      " [[1.51325194 1.63638549 1.27587176 1.50027964]\n",
      "  [1.51325194 1.63638549 1.27587176 1.50027964]\n",
      "  [1.51325194 1.63638549 1.27587176 1.50027964]]]\n",
      "[[[0.01389561 0.28085961 0.75599747 0.83699808]\n",
      "  [0.01389561 0.28085961 0.75599747 0.83699808]\n",
      "  [0.01389561 0.28085961 0.75599747 0.83699808]]\n",
      "\n",
      " [[0.25599164 0.59158202 0.69657302 0.95097766]\n",
      "  [0.25599164 0.59158202 0.69657302 0.95097766]\n",
      "  [0.25599164 0.59158202 0.69657302 0.95097766]]\n",
      "\n",
      " [[0.87121696 0.85096074 0.85419402 0.91646422]\n",
      "  [0.87121696 0.85096074 0.85419402 0.91646422]\n",
      "  [0.87121696 0.85096074 0.85419402 0.91646422]]\n",
      "\n",
      " [[0.70356663 0.32604261 0.73844952 0.97272209]\n",
      "  [0.70356663 0.32604261 0.73844952 0.97272209]\n",
      "  [0.70356663 0.32604261 0.73844952 0.97272209]]\n",
      "\n",
      " [[0.48674806 0.36361451 0.72412824 0.49972036]\n",
      "  [0.48674806 0.36361451 0.72412824 0.49972036]\n",
      "  [0.48674806 0.36361451 0.72412824 0.49972036]]]\n",
      "[[[0.98610439 0.71914039 0.24400253 0.16300192]\n",
      "  [0.98610439 0.71914039 0.24400253 0.16300192]\n",
      "  [0.98610439 0.71914039 0.24400253 0.16300192]]\n",
      "\n",
      " [[0.74400836 0.40841798 0.30342698 0.04902234]\n",
      "  [0.74400836 0.40841798 0.30342698 0.04902234]\n",
      "  [0.74400836 0.40841798 0.30342698 0.04902234]]\n",
      "\n",
      " [[0.12878304 0.14903926 0.14580598 0.08353578]\n",
      "  [0.12878304 0.14903926 0.14580598 0.08353578]\n",
      "  [0.12878304 0.14903926 0.14580598 0.08353578]]\n",
      "\n",
      " [[0.29643337 0.67395739 0.26155048 0.02727791]\n",
      "  [0.29643337 0.67395739 0.26155048 0.02727791]\n",
      "  [0.29643337 0.67395739 0.26155048 0.02727791]]\n",
      "\n",
      " [[0.51325194 0.63638549 0.27587176 0.50027964]\n",
      "  [0.51325194 0.63638549 0.27587176 0.50027964]\n",
      "  [0.51325194 0.63638549 0.27587176 0.50027964]]]\n"
     ]
    }
   ],
   "source": [
    "prac_a = np.ones((3,4))\n",
    "print(prac_a)\n",
    "\n",
    "prac_b = np.random.random((5,1,4))\n",
    "print(prac_b)\n",
    "\n",
    "\n",
    "print(prac_a + prac_b)\n",
    "print(prac_a - prac_b)\n",
    "print(prac_a * prac_b)\n"
   ]
  },
  {
   "cell_type": "code",
   "execution_count": 47,
   "metadata": {},
   "outputs": [
    {
     "name": "stdout",
     "output_type": "stream",
     "text": [
      "[1. 1. 1. 1.]\n",
      "[[2 2 2 2 2 2]\n",
      " [2 2 2 2 2 2]\n",
      " [2 2 2 2 2 2]]\n"
     ]
    },
    {
     "ename": "ValueError",
     "evalue": "operands could not be broadcast together with shapes (4,) (3,6) ",
     "output_type": "error",
     "traceback": [
      "\u001b[0;31m---------------------------------------------------------------------------\u001b[0m",
      "\u001b[0;31mValueError\u001b[0m                                Traceback (most recent call last)",
      "\u001b[0;32m<ipython-input-47-65ddcd8ad976>\u001b[0m in \u001b[0;36m<module>\u001b[0;34m\u001b[0m\n\u001b[1;32m     17\u001b[0m \u001b[0mprint\u001b[0m\u001b[0;34m(\u001b[0m\u001b[0mprac_d\u001b[0m\u001b[0;34m)\u001b[0m\u001b[0;34m\u001b[0m\u001b[0;34m\u001b[0m\u001b[0m\n\u001b[1;32m     18\u001b[0m \u001b[0;34m\u001b[0m\u001b[0m\n\u001b[0;32m---> 19\u001b[0;31m \u001b[0mprac_c\u001b[0m \u001b[0;34m+\u001b[0m \u001b[0mprac_d\u001b[0m\u001b[0;34m\u001b[0m\u001b[0;34m\u001b[0m\u001b[0m\n\u001b[0m",
      "\u001b[0;31mValueError\u001b[0m: operands could not be broadcast together with shapes (4,) (3,6) "
     ]
    }
   ],
   "source": [
    "prac_c = np.ones(4)\n",
    "prac_d = np.full((3,6), 2)\n",
    "\n",
    "print(prac_c)\n",
    "print(prac_d)\n",
    "\n",
    "prac_c + prac_d"
   ]
  },
  {
   "cell_type": "markdown",
   "metadata": {},
   "source": [
    "## Task 6a: Math/Stats Aggregate Functions\n",
    "\n",
    "In the practice notebook, perform the following.\n",
    "\n",
    "+ Create three to five arrays\n",
    "+ Experiment with each of the aggregation functions: `sum`, `minimum`, `maximum`, `cumsum`, `mean`, `np.corrcoef`, `np.std`, `np.var`. \n",
    "+ For each function call, add a comment line above it that describes what it does.  \n",
    "```\n"
   ]
  },
  {
   "cell_type": "code",
   "execution_count": null,
   "metadata": {},
   "outputs": [],
   "source": [
    "# create arrays\n",
    "array1 = np.\n",
    "array2 = np.\n",
    "array3 = np.\n",
    "array4 = np.\n",
    "\n",
    "# sum\n",
    "\n",
    "# minimum\n",
    "\n",
    "# maximum\n",
    "\n",
    "# cumsum\n",
    "  \n",
    "# mean\n",
    "\n",
    "# np.corrcoef\n",
    "\n",
    "# np.std \n",
    "\n",
    "# np.var\n",
    "\n"
   ]
  },
  {
   "cell_type": "markdown",
   "metadata": {},
   "source": [
    "## Task 6b: Logical Aggregate Functions\n",
    "\n",
    "In the practice notebook, perform the following.\n",
    "\n",
    "+ Create two arrays containing boolean values.\n",
    "+ Experiment with each of the aggregation functions: `logical_and`, `logical_or`, `logical_not`. \n",
    "+ For each function call, add a comment line above it that describes what it does.  \n",
    "```"
   ]
  },
  {
   "cell_type": "code",
   "execution_count": null,
   "metadata": {},
   "outputs": [],
   "source": [
    "# create arrays that contain boolean values \n",
    "barray1\n",
    "barray2\n",
    "\n",
    "\n",
    "# logical_and\n",
    "\n",
    "\n",
    "# logical_or\n",
    "\n",
    "\n",
    "# logical_not"
   ]
  }
 ],
 "metadata": {
  "kernelspec": {
   "display_name": "Python 3",
   "language": "python",
   "name": "python3"
  },
  "language_info": {
   "codemirror_mode": {
    "name": "ipython",
    "version": 3
   },
   "file_extension": ".py",
   "mimetype": "text/x-python",
   "name": "python",
   "nbconvert_exporter": "python",
   "pygments_lexer": "ipython3",
   "version": "3.7.7"
  }
 },
 "nbformat": 4,
 "nbformat_minor": 4
}
